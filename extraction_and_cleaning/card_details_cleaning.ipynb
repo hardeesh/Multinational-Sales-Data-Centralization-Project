{
 "cells": [
  {
   "cell_type": "code",
   "execution_count": 10,
   "metadata": {},
   "outputs": [],
   "source": [
    "import pandas as pd\n",
    "from database_utils import DatabaseConnector\n",
    "from data_extraction import DataExtractor\n",
    "import re"
   ]
  },
  {
   "cell_type": "code",
   "execution_count": 11,
   "metadata": {},
   "outputs": [
    {
     "name": "stderr",
     "output_type": "stream",
     "text": [
      "c:\\Users\\harde\\Miniconda3\\envs\\retail\\Lib\\site-packages\\tabula\\io.py:1057: FutureWarning: errors='ignore' is deprecated and will raise in a future version. Use to_numeric without passing `errors` and catch exceptions explicitly instead\n",
      "  df[c] = pd.to_numeric(df[c], errors=\"ignore\")\n"
     ]
    }
   ],
   "source": [
    "df = DataExtractor()\n",
    "df = df.read_pdf_data('https://data-handling-public.s3.eu-west-1.amazonaws.com/card_details.pdf')"
   ]
  },
  {
   "cell_type": "code",
   "execution_count": 12,
   "metadata": {},
   "outputs": [
    {
     "name": "stdout",
     "output_type": "stream",
     "text": [
      "         card_number expiry_date                card_provider  \\\n",
      "0     30060773296197       09/26  Diners Club / Carte Blanche   \n",
      "1    349624180933183       10/23             American Express   \n",
      "2   3529023891650490       06/23                 JCB 16 digit   \n",
      "3    213142929492281       09/27                 JCB 15 digit   \n",
      "4       502067329974       10/25                      Maestro   \n",
      "..               ...         ...                          ...   \n",
      "14   180036921556789       12/28                 JCB 15 digit   \n",
      "15   180018030448512       11/24                 JCB 15 digit   \n",
      "16  3569953313547220       04/24                 JCB 16 digit   \n",
      "17  4444521712606810       06/27                VISA 16 digit   \n",
      "18   372031786522735       02/30             American Express   \n",
      "\n",
      "   date_payment_confirmed  \n",
      "0              2015-11-25  \n",
      "1              2001-06-18  \n",
      "2              2000-12-26  \n",
      "3              2011-02-12  \n",
      "4              1997-03-13  \n",
      "..                    ...  \n",
      "14             1997-06-06  \n",
      "15             2004-06-16  \n",
      "16             2020-02-05  \n",
      "17             2008-06-16  \n",
      "18             2009-02-04  \n",
      "\n",
      "[15309 rows x 4 columns]\n"
     ]
    }
   ],
   "source": [
    "print(df)"
   ]
  },
  {
   "cell_type": "code",
   "execution_count": 13,
   "metadata": {},
   "outputs": [
    {
     "name": "stdout",
     "output_type": "stream",
     "text": [
      "<class 'pandas.core.frame.DataFrame'>\n",
      "Index: 15309 entries, 0 to 18\n",
      "Data columns (total 4 columns):\n",
      " #   Column                  Non-Null Count  Dtype \n",
      "---  ------                  --------------  ----- \n",
      " 0   card_number             15309 non-null  object\n",
      " 1   expiry_date             15309 non-null  object\n",
      " 2   card_provider           15309 non-null  object\n",
      " 3   date_payment_confirmed  15309 non-null  object\n",
      "dtypes: object(4)\n",
      "memory usage: 598.0+ KB\n"
     ]
    },
    {
     "data": {
      "text/plain": [
       "card_number               0.0\n",
       "expiry_date               0.0\n",
       "card_provider             0.0\n",
       "date_payment_confirmed    0.0\n",
       "dtype: float64"
      ]
     },
     "execution_count": 13,
     "metadata": {},
     "output_type": "execute_result"
    }
   ],
   "source": [
    "df.shape\n",
    "df.info()\n",
    "df.isnull().sum() * 100 / len(df)"
   ]
  },
  {
   "cell_type": "code",
   "execution_count": 14,
   "metadata": {},
   "outputs": [],
   "source": [
    "df.to_csv(r\"C:\\Users\\harde\\Documents\\AiCore\\Multinational Retail Data Centralisation/card_details.csv\", index=False)"
   ]
  },
  {
   "cell_type": "code",
   "execution_count": 15,
   "metadata": {},
   "outputs": [
    {
     "data": {
      "text/html": [
       "<div>\n",
       "<style scoped>\n",
       "    .dataframe tbody tr th:only-of-type {\n",
       "        vertical-align: middle;\n",
       "    }\n",
       "\n",
       "    .dataframe tbody tr th {\n",
       "        vertical-align: top;\n",
       "    }\n",
       "\n",
       "    .dataframe thead th {\n",
       "        text-align: right;\n",
       "    }\n",
       "</style>\n",
       "<table border=\"1\" class=\"dataframe\">\n",
       "  <thead>\n",
       "    <tr style=\"text-align: right;\">\n",
       "      <th></th>\n",
       "      <th>card_number</th>\n",
       "      <th>expiry_date</th>\n",
       "      <th>card_provider</th>\n",
       "      <th>date_payment_confirmed</th>\n",
       "    </tr>\n",
       "  </thead>\n",
       "  <tbody>\n",
       "    <tr>\n",
       "      <th>0</th>\n",
       "      <td>30060773296197</td>\n",
       "      <td>09/26</td>\n",
       "      <td>Diners Club / Carte Blanche</td>\n",
       "      <td>2015-11-25</td>\n",
       "    </tr>\n",
       "    <tr>\n",
       "      <th>1</th>\n",
       "      <td>349624180933183</td>\n",
       "      <td>10/23</td>\n",
       "      <td>American Express</td>\n",
       "      <td>2001-06-18</td>\n",
       "    </tr>\n",
       "    <tr>\n",
       "      <th>2</th>\n",
       "      <td>3529023891650490</td>\n",
       "      <td>06/23</td>\n",
       "      <td>JCB 16 digit</td>\n",
       "      <td>2000-12-26</td>\n",
       "    </tr>\n",
       "    <tr>\n",
       "      <th>3</th>\n",
       "      <td>213142929492281</td>\n",
       "      <td>09/27</td>\n",
       "      <td>JCB 15 digit</td>\n",
       "      <td>2011-02-12</td>\n",
       "    </tr>\n",
       "    <tr>\n",
       "      <th>4</th>\n",
       "      <td>502067329974</td>\n",
       "      <td>10/25</td>\n",
       "      <td>Maestro</td>\n",
       "      <td>1997-03-13</td>\n",
       "    </tr>\n",
       "    <tr>\n",
       "      <th>...</th>\n",
       "      <td>...</td>\n",
       "      <td>...</td>\n",
       "      <td>...</td>\n",
       "      <td>...</td>\n",
       "    </tr>\n",
       "    <tr>\n",
       "      <th>14</th>\n",
       "      <td>180036921556789</td>\n",
       "      <td>12/28</td>\n",
       "      <td>JCB 15 digit</td>\n",
       "      <td>1997-06-06</td>\n",
       "    </tr>\n",
       "    <tr>\n",
       "      <th>15</th>\n",
       "      <td>180018030448512</td>\n",
       "      <td>11/24</td>\n",
       "      <td>JCB 15 digit</td>\n",
       "      <td>2004-06-16</td>\n",
       "    </tr>\n",
       "    <tr>\n",
       "      <th>16</th>\n",
       "      <td>3569953313547220</td>\n",
       "      <td>04/24</td>\n",
       "      <td>JCB 16 digit</td>\n",
       "      <td>2020-02-05</td>\n",
       "    </tr>\n",
       "    <tr>\n",
       "      <th>17</th>\n",
       "      <td>4444521712606810</td>\n",
       "      <td>06/27</td>\n",
       "      <td>VISA 16 digit</td>\n",
       "      <td>2008-06-16</td>\n",
       "    </tr>\n",
       "    <tr>\n",
       "      <th>18</th>\n",
       "      <td>372031786522735</td>\n",
       "      <td>02/30</td>\n",
       "      <td>American Express</td>\n",
       "      <td>2009-02-04</td>\n",
       "    </tr>\n",
       "  </tbody>\n",
       "</table>\n",
       "<p>15309 rows × 4 columns</p>\n",
       "</div>"
      ],
      "text/plain": [
       "         card_number expiry_date                card_provider  \\\n",
       "0     30060773296197       09/26  Diners Club / Carte Blanche   \n",
       "1    349624180933183       10/23             American Express   \n",
       "2   3529023891650490       06/23                 JCB 16 digit   \n",
       "3    213142929492281       09/27                 JCB 15 digit   \n",
       "4       502067329974       10/25                      Maestro   \n",
       "..               ...         ...                          ...   \n",
       "14   180036921556789       12/28                 JCB 15 digit   \n",
       "15   180018030448512       11/24                 JCB 15 digit   \n",
       "16  3569953313547220       04/24                 JCB 16 digit   \n",
       "17  4444521712606810       06/27                VISA 16 digit   \n",
       "18   372031786522735       02/30             American Express   \n",
       "\n",
       "   date_payment_confirmed  \n",
       "0              2015-11-25  \n",
       "1              2001-06-18  \n",
       "2              2000-12-26  \n",
       "3              2011-02-12  \n",
       "4              1997-03-13  \n",
       "..                    ...  \n",
       "14             1997-06-06  \n",
       "15             2004-06-16  \n",
       "16             2020-02-05  \n",
       "17             2008-06-16  \n",
       "18             2009-02-04  \n",
       "\n",
       "[15309 rows x 4 columns]"
      ]
     },
     "execution_count": 15,
     "metadata": {},
     "output_type": "execute_result"
    }
   ],
   "source": [
    "df.dropna(how='any',axis=0) "
   ]
  },
  {
   "cell_type": "code",
   "execution_count": 16,
   "metadata": {},
   "outputs": [
    {
     "name": "stdout",
     "output_type": "stream",
     "text": [
      "<class 'pandas.core.frame.DataFrame'>\n",
      "Index: 15284 entries, 0 to 18\n",
      "Data columns (total 4 columns):\n",
      " #   Column                  Non-Null Count  Dtype         \n",
      "---  ------                  --------------  -----         \n",
      " 0   card_number             15284 non-null  object        \n",
      " 1   expiry_date             15284 non-null  datetime64[ns]\n",
      " 2   card_provider           15284 non-null  object        \n",
      " 3   date_payment_confirmed  15284 non-null  object        \n",
      "dtypes: datetime64[ns](1), object(3)\n",
      "memory usage: 597.0+ KB\n"
     ]
    }
   ],
   "source": [
    "df['expiry_date'] = pd.to_datetime(df['expiry_date'], format='%m/%y', errors='coerce')  \n",
    "df.dropna(subset=['expiry_date'], inplace=True) \n",
    "\n",
    "df.shape\n",
    "df.info()"
   ]
  },
  {
   "cell_type": "code",
   "execution_count": 17,
   "metadata": {},
   "outputs": [
    {
     "name": "stdout",
     "output_type": "stream",
     "text": [
      "<class 'pandas.core.frame.DataFrame'>\n",
      "Index: 15284 entries, 0 to 18\n",
      "Data columns (total 4 columns):\n",
      " #   Column                  Non-Null Count  Dtype         \n",
      "---  ------                  --------------  -----         \n",
      " 0   card_number             15284 non-null  object        \n",
      " 1   expiry_date             15284 non-null  datetime64[ns]\n",
      " 2   card_provider           15284 non-null  object        \n",
      " 3   date_payment_confirmed  15284 non-null  object        \n",
      "dtypes: datetime64[ns](1), object(3)\n",
      "memory usage: 597.0+ KB\n"
     ]
    }
   ],
   "source": [
    "df['card_number'] = df['card_number'].replace(r'\\?', '', regex=True)\n",
    "df.shape\n",
    "df.info()"
   ]
  },
  {
   "cell_type": "code",
   "execution_count": 18,
   "metadata": {},
   "outputs": [],
   "source": [
    "local_connector = DatabaseConnector('sales_data.yaml')\n",
    "local_connector.upload_to_db(df, 'dim_card_details')"
   ]
  }
 ],
 "metadata": {
  "kernelspec": {
   "display_name": "Python 3",
   "language": "python",
   "name": "python3"
  },
  "language_info": {
   "codemirror_mode": {
    "name": "ipython",
    "version": 3
   },
   "file_extension": ".py",
   "mimetype": "text/x-python",
   "name": "python",
   "nbconvert_exporter": "python",
   "pygments_lexer": "ipython3",
   "version": "3.12.2"
  }
 },
 "nbformat": 4,
 "nbformat_minor": 2
}
