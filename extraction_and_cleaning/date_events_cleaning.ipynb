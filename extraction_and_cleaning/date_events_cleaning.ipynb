{
 "cells": [
  {
   "cell_type": "code",
   "execution_count": 1,
   "metadata": {},
   "outputs": [],
   "source": [
    "from data_extraction import DataExtractor\n",
    "from database_utils import DatabaseConnector\n",
    "import pandas as pd\n",
    "events = DataExtractor()"
   ]
  },
  {
   "cell_type": "code",
   "execution_count": 2,
   "metadata": {},
   "outputs": [
    {
     "data": {
      "text/html": [
       "<div>\n",
       "<style scoped>\n",
       "    .dataframe tbody tr th:only-of-type {\n",
       "        vertical-align: middle;\n",
       "    }\n",
       "\n",
       "    .dataframe tbody tr th {\n",
       "        vertical-align: top;\n",
       "    }\n",
       "\n",
       "    .dataframe thead th {\n",
       "        text-align: right;\n",
       "    }\n",
       "</style>\n",
       "<table border=\"1\" class=\"dataframe\">\n",
       "  <thead>\n",
       "    <tr style=\"text-align: right;\">\n",
       "      <th></th>\n",
       "      <th>timestamp</th>\n",
       "      <th>month</th>\n",
       "      <th>year</th>\n",
       "      <th>day</th>\n",
       "      <th>time_period</th>\n",
       "      <th>date_uuid</th>\n",
       "    </tr>\n",
       "  </thead>\n",
       "  <tbody>\n",
       "    <tr>\n",
       "      <th>0</th>\n",
       "      <td>22:00:06</td>\n",
       "      <td>9</td>\n",
       "      <td>2012</td>\n",
       "      <td>19</td>\n",
       "      <td>Evening</td>\n",
       "      <td>3b7ca996-37f9-433f-b6d0-ce8391b615ad</td>\n",
       "    </tr>\n",
       "    <tr>\n",
       "      <th>1</th>\n",
       "      <td>22:44:06</td>\n",
       "      <td>2</td>\n",
       "      <td>1997</td>\n",
       "      <td>10</td>\n",
       "      <td>Evening</td>\n",
       "      <td>adc86836-6c35-49ca-bb0d-65b6507a00fa</td>\n",
       "    </tr>\n",
       "    <tr>\n",
       "      <th>2</th>\n",
       "      <td>10:05:37</td>\n",
       "      <td>4</td>\n",
       "      <td>1994</td>\n",
       "      <td>15</td>\n",
       "      <td>Morning</td>\n",
       "      <td>5ff791bf-d8e0-4f86-8ceb-c7b60bef9b31</td>\n",
       "    </tr>\n",
       "    <tr>\n",
       "      <th>3</th>\n",
       "      <td>17:29:27</td>\n",
       "      <td>11</td>\n",
       "      <td>2001</td>\n",
       "      <td>6</td>\n",
       "      <td>Midday</td>\n",
       "      <td>1b01fcef-5ab9-404c-b0d4-1e75a0bd19d8</td>\n",
       "    </tr>\n",
       "    <tr>\n",
       "      <th>4</th>\n",
       "      <td>22:40:33</td>\n",
       "      <td>12</td>\n",
       "      <td>2015</td>\n",
       "      <td>31</td>\n",
       "      <td>Evening</td>\n",
       "      <td>dfa907c1-f6c5-40f0-aa0d-40ed77ac5a44</td>\n",
       "    </tr>\n",
       "    <tr>\n",
       "      <th>...</th>\n",
       "      <td>...</td>\n",
       "      <td>...</td>\n",
       "      <td>...</td>\n",
       "      <td>...</td>\n",
       "      <td>...</td>\n",
       "      <td>...</td>\n",
       "    </tr>\n",
       "    <tr>\n",
       "      <th>120156</th>\n",
       "      <td>22:56:56</td>\n",
       "      <td>11</td>\n",
       "      <td>2022</td>\n",
       "      <td>12</td>\n",
       "      <td>Evening</td>\n",
       "      <td>d6c4fb31-720d-4e94-aa6b-dcbcb85f2bb7</td>\n",
       "    </tr>\n",
       "    <tr>\n",
       "      <th>120157</th>\n",
       "      <td>18:25:20</td>\n",
       "      <td>5</td>\n",
       "      <td>1997</td>\n",
       "      <td>31</td>\n",
       "      <td>Evening</td>\n",
       "      <td>f7722027-1aae-49c3-8f8d-853e93f9f3e6</td>\n",
       "    </tr>\n",
       "    <tr>\n",
       "      <th>120158</th>\n",
       "      <td>18:21:40</td>\n",
       "      <td>9</td>\n",
       "      <td>2011</td>\n",
       "      <td>13</td>\n",
       "      <td>Evening</td>\n",
       "      <td>4a3b9851-52e1-463c-ac81-1960f141444e</td>\n",
       "    </tr>\n",
       "    <tr>\n",
       "      <th>120159</th>\n",
       "      <td>19:10:53</td>\n",
       "      <td>7</td>\n",
       "      <td>2013</td>\n",
       "      <td>12</td>\n",
       "      <td>Evening</td>\n",
       "      <td>64974909-0d4b-42a2-822a-73b5695e8bfb</td>\n",
       "    </tr>\n",
       "    <tr>\n",
       "      <th>120160</th>\n",
       "      <td>21:17:12</td>\n",
       "      <td>3</td>\n",
       "      <td>2008</td>\n",
       "      <td>18</td>\n",
       "      <td>Evening</td>\n",
       "      <td>55c228c7-14ee-4d46-99a9-01dfc57d1adf</td>\n",
       "    </tr>\n",
       "  </tbody>\n",
       "</table>\n",
       "<p>120161 rows × 6 columns</p>\n",
       "</div>"
      ],
      "text/plain": [
       "       timestamp month  year day time_period  \\\n",
       "0       22:00:06     9  2012  19     Evening   \n",
       "1       22:44:06     2  1997  10     Evening   \n",
       "2       10:05:37     4  1994  15     Morning   \n",
       "3       17:29:27    11  2001   6      Midday   \n",
       "4       22:40:33    12  2015  31     Evening   \n",
       "...          ...   ...   ...  ..         ...   \n",
       "120156  22:56:56    11  2022  12     Evening   \n",
       "120157  18:25:20     5  1997  31     Evening   \n",
       "120158  18:21:40     9  2011  13     Evening   \n",
       "120159  19:10:53     7  2013  12     Evening   \n",
       "120160  21:17:12     3  2008  18     Evening   \n",
       "\n",
       "                                   date_uuid  \n",
       "0       3b7ca996-37f9-433f-b6d0-ce8391b615ad  \n",
       "1       adc86836-6c35-49ca-bb0d-65b6507a00fa  \n",
       "2       5ff791bf-d8e0-4f86-8ceb-c7b60bef9b31  \n",
       "3       1b01fcef-5ab9-404c-b0d4-1e75a0bd19d8  \n",
       "4       dfa907c1-f6c5-40f0-aa0d-40ed77ac5a44  \n",
       "...                                      ...  \n",
       "120156  d6c4fb31-720d-4e94-aa6b-dcbcb85f2bb7  \n",
       "120157  f7722027-1aae-49c3-8f8d-853e93f9f3e6  \n",
       "120158  4a3b9851-52e1-463c-ac81-1960f141444e  \n",
       "120159  64974909-0d4b-42a2-822a-73b5695e8bfb  \n",
       "120160  55c228c7-14ee-4d46-99a9-01dfc57d1adf  \n",
       "\n",
       "[120161 rows x 6 columns]"
      ]
     },
     "execution_count": 2,
     "metadata": {},
     "output_type": "execute_result"
    }
   ],
   "source": [
    "events = DataExtractor()\n",
    "events.extract_from_s3_json('data-handling-public', 'date_details.json')"
   ]
  },
  {
   "cell_type": "code",
   "execution_count": 3,
   "metadata": {},
   "outputs": [
    {
     "name": "stdout",
     "output_type": "stream",
     "text": [
      "<class 'pandas.core.frame.DataFrame'>\n",
      "Index: 120161 entries, 0 to 120160\n",
      "Data columns (total 6 columns):\n",
      " #   Column       Non-Null Count   Dtype \n",
      "---  ------       --------------   ----- \n",
      " 0   timestamp    120161 non-null  object\n",
      " 1   month        120161 non-null  object\n",
      " 2   year         120161 non-null  object\n",
      " 3   day          120161 non-null  object\n",
      " 4   time_period  120161 non-null  object\n",
      " 5   date_uuid    120161 non-null  object\n",
      "dtypes: object(6)\n",
      "memory usage: 6.4+ MB\n"
     ]
    },
    {
     "data": {
      "text/plain": [
       "timestamp      0.0\n",
       "month          0.0\n",
       "year           0.0\n",
       "day            0.0\n",
       "time_period    0.0\n",
       "date_uuid      0.0\n",
       "dtype: float64"
      ]
     },
     "execution_count": 3,
     "metadata": {},
     "output_type": "execute_result"
    }
   ],
   "source": [
    "df = events.extract_from_s3_json('data-handling-public', 'date_details.json')\n",
    "\n",
    "df.info()\n",
    "df.shape\n",
    "\n",
    "df.isnull().sum() * 100 / len(df)"
   ]
  },
  {
   "cell_type": "code",
   "execution_count": 4,
   "metadata": {},
   "outputs": [
    {
     "data": {
      "text/plain": [
       "month\n",
       "7             10284\n",
       "1             10249\n",
       "8             10225\n",
       "5             10150\n",
       "10            10130\n",
       "12            10119\n",
       "3             10119\n",
       "6              9965\n",
       "11             9867\n",
       "4              9755\n",
       "9              9752\n",
       "2              9508\n",
       "NULL             15\n",
       "9P3C0WBWTU        1\n",
       "W6FT760O2B        1\n",
       "DOIR43VTCM        1\n",
       "FA8KD82QH3        1\n",
       "ZRH2YT3FR8        1\n",
       "03T414PVFI        1\n",
       "FNPZFYI489        1\n",
       "67RMH5U2R6        1\n",
       "J9VQLERJQO        1\n",
       "2VZEREEIKB        1\n",
       "K9ZN06ZS1X        1\n",
       "SAT4V9O2DL        1\n",
       "EB8VJHYZLE        1\n",
       "22JSMNGJCU        1\n",
       "4FHLELF101        1\n",
       "DGQAH7M1HQ        1\n",
       "3ZZ5UCZR5D        1\n",
       "YULO5U0ZAM        1\n",
       "LZLLPZ0ZUA        1\n",
       "NF46JOZMTA        1\n",
       "9GN4VIO5A8        1\n",
       "1YMRDJNU2T        1\n",
       "GYSATSCN88        1\n",
       "Name: count, dtype: int64"
      ]
     },
     "execution_count": 4,
     "metadata": {},
     "output_type": "execute_result"
    }
   ],
   "source": [
    "df['month'].value_counts()"
   ]
  },
  {
   "cell_type": "code",
   "execution_count": 5,
   "metadata": {},
   "outputs": [
    {
     "name": "stdout",
     "output_type": "stream",
     "text": [
      "month\n",
      "7.0     10284\n",
      "1.0     10249\n",
      "8.0     10225\n",
      "5.0     10150\n",
      "10.0    10130\n",
      "12.0    10119\n",
      "3.0     10119\n",
      "6.0      9965\n",
      "11.0     9867\n",
      "4.0      9755\n",
      "9.0      9752\n",
      "2.0      9508\n",
      "Name: count, dtype: int64\n",
      "(120123, 6)\n"
     ]
    }
   ],
   "source": [
    "df['month'] = pd.to_numeric(df['month'], errors='coerce')\n",
    "df.dropna(subset=['month'], inplace=True)\n",
    "print(df['month'].value_counts())\n",
    "print(df.shape)"
   ]
  },
  {
   "cell_type": "code",
   "execution_count": 6,
   "metadata": {},
   "outputs": [
    {
     "name": "stdout",
     "output_type": "stream",
     "text": [
      "month\n",
      "Jul    10284\n",
      "Jan    10249\n",
      "Aug    10225\n",
      "May    10150\n",
      "Oct    10130\n",
      "Dec    10119\n",
      "Mar    10119\n",
      "Jun     9965\n",
      "Nov     9867\n",
      "Apr     9755\n",
      "Sep     9752\n",
      "Feb     9508\n",
      "Name: count, dtype: int64\n",
      "(120123, 6)\n"
     ]
    }
   ],
   "source": [
    "df['month'] = pd.to_datetime(df['month'],format='%m').dt.month_name().str.slice(stop=3)\n",
    "df.dropna(subset=['month'], inplace=True)\n",
    "print(df['month'].value_counts())\n",
    "print(df.shape)"
   ]
  },
  {
   "cell_type": "code",
   "execution_count": 7,
   "metadata": {},
   "outputs": [
    {
     "name": "stdout",
     "output_type": "stream",
     "text": [
      "year\n",
      "1998    4102\n",
      "2017    4082\n",
      "2003    4082\n",
      "2005    4074\n",
      "2015    4055\n",
      "1997    4044\n",
      "2014    4039\n",
      "2004    4037\n",
      "2006    4033\n",
      "2000    4026\n",
      "2018    4024\n",
      "1996    4024\n",
      "2001    4023\n",
      "1994    4021\n",
      "2019    4019\n",
      "1999    4009\n",
      "2007    4008\n",
      "2010    4006\n",
      "2009    4002\n",
      "2012    3994\n",
      "2020    3991\n",
      "2021    3984\n",
      "2011    3972\n",
      "2016    3963\n",
      "2008    3961\n",
      "1995    3952\n",
      "2002    3927\n",
      "1993    3876\n",
      "2013    3831\n",
      "2022    3516\n",
      "1992     446\n",
      "Name: count, dtype: int64\n",
      "(120123, 6)\n"
     ]
    }
   ],
   "source": [
    "df['year'] = pd.to_numeric(df['year'], errors='coerce')\n",
    "df.dropna(subset=['year'], inplace=True)\n",
    "print(df['year'].value_counts())\n",
    "print(df.shape)"
   ]
  },
  {
   "cell_type": "code",
   "execution_count": 8,
   "metadata": {},
   "outputs": [
    {
     "name": "stdout",
     "output_type": "stream",
     "text": [
      "day\n",
      "15    4061\n",
      "20    4044\n",
      "5     4041\n",
      "21    4014\n",
      "3     4004\n",
      "26    3991\n",
      "7     3989\n",
      "16    3989\n",
      "13    3980\n",
      "22    3976\n",
      "10    3967\n",
      "6     3965\n",
      "27    3965\n",
      "1     3961\n",
      "23    3952\n",
      "8     3945\n",
      "9     3941\n",
      "18    3936\n",
      "12    3932\n",
      "17    3915\n",
      "2     3915\n",
      "11    3913\n",
      "19    3884\n",
      "14    3881\n",
      "4     3866\n",
      "24    3852\n",
      "28    3817\n",
      "25    3816\n",
      "29    3641\n",
      "30    3602\n",
      "31    2368\n",
      "Name: count, dtype: int64\n",
      "(120123, 6)\n"
     ]
    }
   ],
   "source": [
    "df['day'] = pd.to_numeric(df['day'], errors='coerce')\n",
    "df.dropna(subset=['day'], inplace=True)\n",
    "print(df['day'].value_counts())\n",
    "print(df.shape)"
   ]
  },
  {
   "cell_type": "code",
   "execution_count": 9,
   "metadata": {},
   "outputs": [
    {
     "data": {
      "text/plain": [
       "time_period\n",
       "Evening       78227\n",
       "Midday        23936\n",
       "Morning       12038\n",
       "Late_Hours     5922\n",
       "Name: count, dtype: int64"
      ]
     },
     "execution_count": 9,
     "metadata": {},
     "output_type": "execute_result"
    }
   ],
   "source": [
    "df['time_period'].value_counts()"
   ]
  },
  {
   "cell_type": "code",
   "execution_count": 10,
   "metadata": {},
   "outputs": [],
   "source": [
    "local_connector = DatabaseConnector('sales_data.yaml')\n",
    "local_connector.upload_to_db(df, 'dim_date_times')"
   ]
  }
 ],
 "metadata": {
  "kernelspec": {
   "display_name": "Python 3",
   "language": "python",
   "name": "python3"
  },
  "language_info": {
   "codemirror_mode": {
    "name": "ipython",
    "version": 3
   },
   "file_extension": ".py",
   "mimetype": "text/x-python",
   "name": "python",
   "nbconvert_exporter": "python",
   "pygments_lexer": "ipython3",
   "version": "3.12.2"
  }
 },
 "nbformat": 4,
 "nbformat_minor": 2
}
