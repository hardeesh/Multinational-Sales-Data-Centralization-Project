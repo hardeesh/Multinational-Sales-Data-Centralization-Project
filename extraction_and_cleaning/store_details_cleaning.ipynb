{
 "cells": [
  {
   "cell_type": "code",
   "execution_count": 59,
   "metadata": {},
   "outputs": [],
   "source": [
    "from data_extraction import DataExtractor\n",
    "from database_utils import DatabaseConnector\n",
    "import pandas as pd\n",
    "stores = DataExtractor()"
   ]
  },
  {
   "cell_type": "code",
   "execution_count": 60,
   "metadata": {},
   "outputs": [],
   "source": [
    "header = {'x-api-key ':'yFBQbwXe9J3sd6zWVAMrK6lcxxr0q1lr2PT6DDMX'}\n",
    "\n",
    "url = 'https://aqj7u5id95.execute-api.eu-west-1.amazonaws.com/prod/number_stores'"
   ]
  },
  {
   "cell_type": "code",
   "execution_count": 61,
   "metadata": {},
   "outputs": [
    {
     "data": {
      "text/plain": [
       "'There are 451 stores'"
      ]
     },
     "execution_count": 61,
     "metadata": {},
     "output_type": "execute_result"
    }
   ],
   "source": [
    "stores.list_number_of_stores(url, header)"
   ]
  },
  {
   "cell_type": "code",
   "execution_count": 62,
   "metadata": {},
   "outputs": [],
   "source": [
    "endpoint = 'https://aqj7u5id95.execute-api.eu-west-1.amazonaws.com/prod/store_details'\n",
    "df = stores.retrieve_stores_data(endpoint, header)"
   ]
  },
  {
   "cell_type": "code",
   "execution_count": 63,
   "metadata": {},
   "outputs": [
    {
     "data": {
      "text/html": [
       "<div>\n",
       "<style scoped>\n",
       "    .dataframe tbody tr th:only-of-type {\n",
       "        vertical-align: middle;\n",
       "    }\n",
       "\n",
       "    .dataframe tbody tr th {\n",
       "        vertical-align: top;\n",
       "    }\n",
       "\n",
       "    .dataframe thead th {\n",
       "        text-align: right;\n",
       "    }\n",
       "</style>\n",
       "<table border=\"1\" class=\"dataframe\">\n",
       "  <thead>\n",
       "    <tr style=\"text-align: right;\">\n",
       "      <th></th>\n",
       "      <th>index</th>\n",
       "      <th>address</th>\n",
       "      <th>longitude</th>\n",
       "      <th>lat</th>\n",
       "      <th>locality</th>\n",
       "      <th>store_code</th>\n",
       "      <th>staff_numbers</th>\n",
       "      <th>opening_date</th>\n",
       "      <th>store_type</th>\n",
       "      <th>latitude</th>\n",
       "      <th>country_code</th>\n",
       "      <th>continent</th>\n",
       "    </tr>\n",
       "  </thead>\n",
       "  <tbody>\n",
       "    <tr>\n",
       "      <th>0</th>\n",
       "      <td>0</td>\n",
       "      <td>N/A</td>\n",
       "      <td>N/A</td>\n",
       "      <td>N/A</td>\n",
       "      <td>N/A</td>\n",
       "      <td>WEB-1388012W</td>\n",
       "      <td>325</td>\n",
       "      <td>2010-06-12</td>\n",
       "      <td>Web Portal</td>\n",
       "      <td>None</td>\n",
       "      <td>GB</td>\n",
       "      <td>Europe</td>\n",
       "    </tr>\n",
       "    <tr>\n",
       "      <th>1</th>\n",
       "      <td>1</td>\n",
       "      <td>Flat 72W\\nSally isle\\nEast Deantown\\nE7B 8EB, ...</td>\n",
       "      <td>51.62907</td>\n",
       "      <td>None</td>\n",
       "      <td>High Wycombe</td>\n",
       "      <td>HI-9B97EE4E</td>\n",
       "      <td>34</td>\n",
       "      <td>1996-10-25</td>\n",
       "      <td>Local</td>\n",
       "      <td>-0.74934</td>\n",
       "      <td>GB</td>\n",
       "      <td>Europe</td>\n",
       "    </tr>\n",
       "    <tr>\n",
       "      <th>2</th>\n",
       "      <td>2</td>\n",
       "      <td>Heckerstraße 4/5\\n50491 Säckingen, Landshut</td>\n",
       "      <td>48.52961</td>\n",
       "      <td>None</td>\n",
       "      <td>Landshut</td>\n",
       "      <td>LA-0772C7B9</td>\n",
       "      <td>92</td>\n",
       "      <td>2013-04-12</td>\n",
       "      <td>Super Store</td>\n",
       "      <td>12.16179</td>\n",
       "      <td>DE</td>\n",
       "      <td>Europe</td>\n",
       "    </tr>\n",
       "    <tr>\n",
       "      <th>3</th>\n",
       "      <td>3</td>\n",
       "      <td>5 Harrison tunnel\\nSouth Lydia\\nWC9 2BE, Westbury</td>\n",
       "      <td>51.26</td>\n",
       "      <td>None</td>\n",
       "      <td>Westbury</td>\n",
       "      <td>WE-1DE82CEE</td>\n",
       "      <td>69</td>\n",
       "      <td>2014-01-02</td>\n",
       "      <td>Super Store</td>\n",
       "      <td>-2.1875</td>\n",
       "      <td>GB</td>\n",
       "      <td>Europe</td>\n",
       "    </tr>\n",
       "    <tr>\n",
       "      <th>4</th>\n",
       "      <td>4</td>\n",
       "      <td>Studio 6\\nStephen landing\\nSouth Simon\\nB77 2W...</td>\n",
       "      <td>53.0233</td>\n",
       "      <td>None</td>\n",
       "      <td>Belper</td>\n",
       "      <td>BE-18074576</td>\n",
       "      <td>35</td>\n",
       "      <td>2019-09-09</td>\n",
       "      <td>Local</td>\n",
       "      <td>-1.48119</td>\n",
       "      <td>GB</td>\n",
       "      <td>Europe</td>\n",
       "    </tr>\n",
       "    <tr>\n",
       "      <th>...</th>\n",
       "      <td>...</td>\n",
       "      <td>...</td>\n",
       "      <td>...</td>\n",
       "      <td>...</td>\n",
       "      <td>...</td>\n",
       "      <td>...</td>\n",
       "      <td>...</td>\n",
       "      <td>...</td>\n",
       "      <td>...</td>\n",
       "      <td>...</td>\n",
       "      <td>...</td>\n",
       "      <td>...</td>\n",
       "    </tr>\n",
       "    <tr>\n",
       "      <th>446</th>\n",
       "      <td>446</td>\n",
       "      <td>Täschestraße 25\\n39039 Nördlingen, Kirchlengern</td>\n",
       "      <td>52.2</td>\n",
       "      <td>None</td>\n",
       "      <td>Kirchlengern</td>\n",
       "      <td>KI-78096E8C</td>\n",
       "      <td>61</td>\n",
       "      <td>2005-05-12</td>\n",
       "      <td>Super Store</td>\n",
       "      <td>8.63333</td>\n",
       "      <td>DE</td>\n",
       "      <td>Europe</td>\n",
       "    </tr>\n",
       "    <tr>\n",
       "      <th>447</th>\n",
       "      <td>447</td>\n",
       "      <td>K0ODETRLS3</td>\n",
       "      <td>K8CXLZDP07</td>\n",
       "      <td>UXMWDMX1LC</td>\n",
       "      <td>3VHFDNP8ET</td>\n",
       "      <td>9D4LK7X4LZ</td>\n",
       "      <td>D23PCWSM6S</td>\n",
       "      <td>36IIMAQD58</td>\n",
       "      <td>NN04B3F6UQ</td>\n",
       "      <td>JZP8MIJTPZ</td>\n",
       "      <td>B3EH2ZGQAV</td>\n",
       "      <td>1WZB1TE1HL</td>\n",
       "    </tr>\n",
       "    <tr>\n",
       "      <th>448</th>\n",
       "      <td>448</td>\n",
       "      <td>Studio 8\\nMoss mall\\nWest Linda\\nM0E 6XR, High...</td>\n",
       "      <td>51.62907</td>\n",
       "      <td>None</td>\n",
       "      <td>High Wycombe</td>\n",
       "      <td>HI-EEA7AE62</td>\n",
       "      <td>33</td>\n",
       "      <td>1998-05-14</td>\n",
       "      <td>Local</td>\n",
       "      <td>-0.74934</td>\n",
       "      <td>GB</td>\n",
       "      <td>Europe</td>\n",
       "    </tr>\n",
       "    <tr>\n",
       "      <th>449</th>\n",
       "      <td>449</td>\n",
       "      <td>Baumplatz 6\\n80114 Kötzting, Bretten</td>\n",
       "      <td>49.03685</td>\n",
       "      <td>None</td>\n",
       "      <td>Bretten</td>\n",
       "      <td>BR-662EC74C</td>\n",
       "      <td>35</td>\n",
       "      <td>2020-10-17</td>\n",
       "      <td>Local</td>\n",
       "      <td>8.70745</td>\n",
       "      <td>DE</td>\n",
       "      <td>Europe</td>\n",
       "    </tr>\n",
       "    <tr>\n",
       "      <th>450</th>\n",
       "      <td>450</td>\n",
       "      <td>Gotthilf-Rose-Straße 7/3\\n45457 Feuchtwangen, ...</td>\n",
       "      <td>50.64336</td>\n",
       "      <td>None</td>\n",
       "      <td>Bad Honnef</td>\n",
       "      <td>BA-B4AED588</td>\n",
       "      <td>36</td>\n",
       "      <td>2001-05-12</td>\n",
       "      <td>Local</td>\n",
       "      <td>7.2278</td>\n",
       "      <td>DE</td>\n",
       "      <td>eeEurope</td>\n",
       "    </tr>\n",
       "  </tbody>\n",
       "</table>\n",
       "<p>451 rows × 12 columns</p>\n",
       "</div>"
      ],
      "text/plain": [
       "     index                                            address   longitude  \\\n",
       "0        0                                                N/A         N/A   \n",
       "1        1  Flat 72W\\nSally isle\\nEast Deantown\\nE7B 8EB, ...    51.62907   \n",
       "2        2        Heckerstraße 4/5\\n50491 Säckingen, Landshut    48.52961   \n",
       "3        3  5 Harrison tunnel\\nSouth Lydia\\nWC9 2BE, Westbury       51.26   \n",
       "4        4  Studio 6\\nStephen landing\\nSouth Simon\\nB77 2W...     53.0233   \n",
       "..     ...                                                ...         ...   \n",
       "446    446    Täschestraße 25\\n39039 Nördlingen, Kirchlengern        52.2   \n",
       "447    447                                         K0ODETRLS3  K8CXLZDP07   \n",
       "448    448  Studio 8\\nMoss mall\\nWest Linda\\nM0E 6XR, High...    51.62907   \n",
       "449    449               Baumplatz 6\\n80114 Kötzting, Bretten    49.03685   \n",
       "450    450  Gotthilf-Rose-Straße 7/3\\n45457 Feuchtwangen, ...    50.64336   \n",
       "\n",
       "            lat      locality    store_code staff_numbers opening_date  \\\n",
       "0           N/A           N/A  WEB-1388012W           325   2010-06-12   \n",
       "1          None  High Wycombe   HI-9B97EE4E            34   1996-10-25   \n",
       "2          None      Landshut   LA-0772C7B9            92   2013-04-12   \n",
       "3          None      Westbury   WE-1DE82CEE            69   2014-01-02   \n",
       "4          None        Belper   BE-18074576            35   2019-09-09   \n",
       "..          ...           ...           ...           ...          ...   \n",
       "446        None  Kirchlengern   KI-78096E8C            61   2005-05-12   \n",
       "447  UXMWDMX1LC    3VHFDNP8ET    9D4LK7X4LZ    D23PCWSM6S   36IIMAQD58   \n",
       "448        None  High Wycombe   HI-EEA7AE62            33   1998-05-14   \n",
       "449        None       Bretten   BR-662EC74C            35   2020-10-17   \n",
       "450        None    Bad Honnef   BA-B4AED588            36   2001-05-12   \n",
       "\n",
       "      store_type    latitude country_code   continent  \n",
       "0     Web Portal        None           GB      Europe  \n",
       "1          Local    -0.74934           GB      Europe  \n",
       "2    Super Store    12.16179           DE      Europe  \n",
       "3    Super Store     -2.1875           GB      Europe  \n",
       "4          Local    -1.48119           GB      Europe  \n",
       "..           ...         ...          ...         ...  \n",
       "446  Super Store     8.63333           DE      Europe  \n",
       "447   NN04B3F6UQ  JZP8MIJTPZ   B3EH2ZGQAV  1WZB1TE1HL  \n",
       "448        Local    -0.74934           GB      Europe  \n",
       "449        Local     8.70745           DE      Europe  \n",
       "450        Local      7.2278           DE    eeEurope  \n",
       "\n",
       "[451 rows x 12 columns]"
      ]
     },
     "execution_count": 63,
     "metadata": {},
     "output_type": "execute_result"
    }
   ],
   "source": [
    "df"
   ]
  },
  {
   "cell_type": "code",
   "execution_count": 64,
   "metadata": {},
   "outputs": [],
   "source": [
    "search = ['GB','US', 'DE']\n",
    "df = df[df['country_code'].isin(search)]\n"
   ]
  },
  {
   "cell_type": "code",
   "execution_count": 65,
   "metadata": {},
   "outputs": [
    {
     "data": {
      "text/plain": [
       "country_code\n",
       "GB    266\n",
       "DE    141\n",
       "US     34\n",
       "Name: count, dtype: int64"
      ]
     },
     "execution_count": 65,
     "metadata": {},
     "output_type": "execute_result"
    }
   ],
   "source": [
    "df['country_code'].value_counts()"
   ]
  },
  {
   "cell_type": "code",
   "execution_count": 66,
   "metadata": {},
   "outputs": [
    {
     "data": {
      "text/plain": [
       "opening_date\n",
       "2004-01-23     3\n",
       "2011-03-27     2\n",
       "1998-09-29     2\n",
       "2014-05-21     2\n",
       "2006-10-03     2\n",
       "              ..\n",
       "2005-08-01     1\n",
       "May 2003 27    1\n",
       "1997-02-07     1\n",
       "2003-04-07     1\n",
       "2001-05-12     1\n",
       "Name: count, Length: 432, dtype: int64"
      ]
     },
     "execution_count": 66,
     "metadata": {},
     "output_type": "execute_result"
    }
   ],
   "source": [
    "df['opening_date'].value_counts()"
   ]
  },
  {
   "cell_type": "code",
   "execution_count": 67,
   "metadata": {},
   "outputs": [
    {
     "data": {
      "text/plain": [
       "<bound method DataFrame.info of      index                                            address longitude   lat  \\\n",
       "0        0                                                N/A       N/A   N/A   \n",
       "1        1  Flat 72W\\nSally isle\\nEast Deantown\\nE7B 8EB, ...  51.62907  None   \n",
       "2        2        Heckerstraße 4/5\\n50491 Säckingen, Landshut  48.52961  None   \n",
       "3        3  5 Harrison tunnel\\nSouth Lydia\\nWC9 2BE, Westbury     51.26  None   \n",
       "4        4  Studio 6\\nStephen landing\\nSouth Simon\\nB77 2W...   53.0233  None   \n",
       "..     ...                                                ...       ...   ...   \n",
       "445    445  Flat 7\\nStephanie lake\\nMorrisside\\nHP8 8LH, C...  50.76306  None   \n",
       "446    446    Täschestraße 25\\n39039 Nördlingen, Kirchlengern      52.2  None   \n",
       "448    448  Studio 8\\nMoss mall\\nWest Linda\\nM0E 6XR, High...  51.62907  None   \n",
       "449    449               Baumplatz 6\\n80114 Kötzting, Bretten  49.03685  None   \n",
       "450    450  Gotthilf-Rose-Straße 7/3\\n45457 Feuchtwangen, ...  50.64336  None   \n",
       "\n",
       "         locality    store_code staff_numbers opening_date   store_type  \\\n",
       "0             N/A  WEB-1388012W           325   2010-06-12   Web Portal   \n",
       "1    High Wycombe   HI-9B97EE4E            34   1996-10-25        Local   \n",
       "2        Landshut   LA-0772C7B9            92   2013-04-12  Super Store   \n",
       "3        Westbury   WE-1DE82CEE            69   2014-01-02  Super Store   \n",
       "4          Belper   BE-18074576            35   2019-09-09        Local   \n",
       "..            ...           ...           ...          ...          ...   \n",
       "445         Cowes   CO-473A9FBB            94   2008-06-08  Super Store   \n",
       "446  Kirchlengern   KI-78096E8C            61   2005-05-12  Super Store   \n",
       "448  High Wycombe   HI-EEA7AE62            33   1998-05-14        Local   \n",
       "449       Bretten   BR-662EC74C            35   2020-10-17        Local   \n",
       "450    Bad Honnef   BA-B4AED588            36   2001-05-12        Local   \n",
       "\n",
       "     latitude country_code continent  \n",
       "0        None           GB    Europe  \n",
       "1    -0.74934           GB    Europe  \n",
       "2    12.16179           DE    Europe  \n",
       "3     -2.1875           GB    Europe  \n",
       "4    -1.48119           GB    Europe  \n",
       "..        ...          ...       ...  \n",
       "445  -1.29772           GB    Europe  \n",
       "446   8.63333           DE    Europe  \n",
       "448  -0.74934           GB    Europe  \n",
       "449   8.70745           DE    Europe  \n",
       "450    7.2278           DE  eeEurope  \n",
       "\n",
       "[441 rows x 12 columns]>"
      ]
     },
     "execution_count": 67,
     "metadata": {},
     "output_type": "execute_result"
    }
   ],
   "source": [
    "df.info"
   ]
  },
  {
   "cell_type": "code",
   "execution_count": 68,
   "metadata": {},
   "outputs": [
    {
     "name": "stderr",
     "output_type": "stream",
     "text": [
      "C:\\Users\\harde\\AppData\\Local\\Temp\\ipykernel_16372\\3475615636.py:1: SettingWithCopyWarning: \n",
      "A value is trying to be set on a copy of a slice from a DataFrame.\n",
      "Try using .loc[row_indexer,col_indexer] = value instead\n",
      "\n",
      "See the caveats in the documentation: https://pandas.pydata.org/pandas-docs/stable/user_guide/indexing.html#returning-a-view-versus-a-copy\n",
      "  df['opening_date'] = pd.to_datetime(df['opening_date'], format = 'mixed')\n"
     ]
    }
   ],
   "source": [
    "df['opening_date'] = pd.to_datetime(df['opening_date'], format = 'mixed')"
   ]
  },
  {
   "cell_type": "code",
   "execution_count": 69,
   "metadata": {},
   "outputs": [
    {
     "data": {
      "text/plain": [
       "opening_date\n",
       "2004-01-23    3\n",
       "2014-05-21    2\n",
       "1998-12-19    2\n",
       "1998-09-29    2\n",
       "2006-10-03    2\n",
       "             ..\n",
       "2006-02-20    1\n",
       "2005-08-01    1\n",
       "2003-05-27    1\n",
       "1997-02-07    1\n",
       "2001-05-12    1\n",
       "Name: count, Length: 431, dtype: int64"
      ]
     },
     "execution_count": 69,
     "metadata": {},
     "output_type": "execute_result"
    }
   ],
   "source": [
    "df['opening_date'].value_counts()"
   ]
  },
  {
   "cell_type": "code",
   "execution_count": 70,
   "metadata": {},
   "outputs": [
    {
     "name": "stderr",
     "output_type": "stream",
     "text": [
      "C:\\Users\\harde\\AppData\\Local\\Temp\\ipykernel_16372\\936312507.py:1: SettingWithCopyWarning: \n",
      "A value is trying to be set on a copy of a slice from a DataFrame.\n",
      "Try using .loc[row_indexer,col_indexer] = value instead\n",
      "\n",
      "See the caveats in the documentation: https://pandas.pydata.org/pandas-docs/stable/user_guide/indexing.html#returning-a-view-versus-a-copy\n",
      "  df['staff_numbers'] = pd.to_numeric(df['staff_numbers'], errors='coerce')\n"
     ]
    }
   ],
   "source": [
    "df['staff_numbers'] = pd.to_numeric(df['staff_numbers'], errors='coerce')\n"
   ]
  },
  {
   "cell_type": "code",
   "execution_count": 71,
   "metadata": {},
   "outputs": [],
   "source": [
    "local_connector = DatabaseConnector('sales_data.yaml')\n",
    "local_connector.upload_to_db(df, 'dim_store_details')"
   ]
  }
 ],
 "metadata": {
  "kernelspec": {
   "display_name": "Python 3",
   "language": "python",
   "name": "python3"
  },
  "language_info": {
   "codemirror_mode": {
    "name": "ipython",
    "version": 3
   },
   "file_extension": ".py",
   "mimetype": "text/x-python",
   "name": "python",
   "nbconvert_exporter": "python",
   "pygments_lexer": "ipython3",
   "version": "3.12.2"
  }
 },
 "nbformat": 4,
 "nbformat_minor": 2
}
