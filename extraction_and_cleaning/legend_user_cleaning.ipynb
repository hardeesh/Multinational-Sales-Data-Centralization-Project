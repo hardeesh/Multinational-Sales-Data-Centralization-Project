{
 "cells": [
  {
   "cell_type": "code",
   "execution_count": 1,
   "metadata": {},
   "outputs": [],
   "source": [
    "import pandas as pd\n",
    "from database_utils import DatabaseConnector\n",
    "from data_extraction import DataExtractor\n",
    "from data_cleaning import DataCleaning"
   ]
  },
  {
   "cell_type": "code",
   "execution_count": 4,
   "metadata": {},
   "outputs": [],
   "source": [
    "rds_connector = DatabaseConnector('db_creds.yaml')\n",
    "local_connector = DatabaseConnector('sales_data.yaml')\n"
   ]
  },
  {
   "cell_type": "code",
   "execution_count": 5,
   "metadata": {},
   "outputs": [],
   "source": [
    "df = DataExtractor.read_rds_tables(rds_connector.engine)"
   ]
  },
  {
   "cell_type": "code",
   "execution_count": 4,
   "metadata": {},
   "outputs": [
    {
     "name": "stdout",
     "output_type": "stream",
     "text": [
      "       index first_name last_name date_of_birth                       company  \\\n",
      "0          0   Sigfried     Noack    1990-09-30            Heydrich Junitz KG   \n",
      "1          1        Guy     Allen    1940-12-01                       Fox Ltd   \n",
      "2          2      Harry  Lawrence    1995-08-02     Johnson, Jones and Harris   \n",
      "3          3     Darren   Hussain    1972-09-23                   Wheeler LLC   \n",
      "4          4      Garry     Stone    1952-12-20                    Warner Inc   \n",
      "...      ...        ...       ...           ...                           ...   \n",
      "15315  14913    Stephen   Jenkins    1943-08-09  Thornton, Carroll and Newman   \n",
      "15316  14994    Stephen     Smith    1948-08-20               Robinson-Harris   \n",
      "15317  15012    Stephen  Losekann    1940-10-09                       Rosenow   \n",
      "15318  15269    Stephen    Rivera    1952-06-04         Taylor, Fry and Jones   \n",
      "15319   1249    Stephen    Duncan    1994-03-27    Phillips, Brown and Powell   \n",
      "\n",
      "                      email_address  \\\n",
      "0                 rudi79@winkler.de   \n",
      "1      rhodesclifford@henderson.com   \n",
      "2      glen98@bryant-marshall.co.uk   \n",
      "3        daniellebryan@thompson.org   \n",
      "4           billy14@long-warren.com   \n",
      "...                             ...   \n",
      "15315           s.jenkins@smith.com   \n",
      "15316             s.smith@smith.com   \n",
      "15317          s.losekann@smith.com   \n",
      "15318            s.rivera@smith.com   \n",
      "15319            s.duncan@smith.com   \n",
      "\n",
      "                                                 address         country  \\\n",
      "0                           Zimmerstr. 1/0\\n59015 Gießen         Germany   \n",
      "1      Studio 22a\\nLynne terrace\\nMcCarthymouth\\nTF0 9GH  United Kingdom   \n",
      "2                     92 Ann drive\\nJoanborough\\nSK0 6LR  United Kingdom   \n",
      "3                 19 Robinson meadow\\nNew Tracy\\nW22 2QG  United Kingdom   \n",
      "4                  3 White pass\\nHunterborough\\nNN96 4UE  United Kingdom   \n",
      "...                                                  ...             ...   \n",
      "15315     Studio 41I\\nJones lodge\\nOliviaborough\\nE8 3DU  United Kingdom   \n",
      "15316              530 Young parkway\\nMillsfurt\\nL4G 7NX  United Kingdom   \n",
      "15317  Viviane-Fritsch-Straße 3/5\\n15064 Bad Liebenwerda         Germany   \n",
      "15318   660 Ross Falls Suite 357\\nAnthonymouth, MA 09610   United States   \n",
      "15319     Studio 4\\nHancock road\\nPhillipsview\\nST1X 3XB  United Kingdom   \n",
      "\n",
      "      country_code       phone_number   join_date  \\\n",
      "0               DE   +49(0) 047905356  2018-10-10   \n",
      "1               GB    (0161) 496 0674  2001-12-20   \n",
      "2               GB  +44(0)121 4960340  2016-12-16   \n",
      "3               GB    (0306) 999 0871  2004-02-23   \n",
      "4               GB      0121 496 0225  2006-09-01   \n",
      "...            ...                ...         ...   \n",
      "15315           GB    +44(0)292018946  2016-04-15   \n",
      "15316           GB   +44(0)1144960977  2020-07-20   \n",
      "15317           DE        02984 08192  2021-03-07   \n",
      "15318           US       239.711.3836  2011-01-03   \n",
      "15319           GB   +44(0)1314960870  2015-08-28   \n",
      "\n",
      "                                  user_uuid  \n",
      "0      93caf182-e4e9-4c6e-bebb-60a1a9dcf9b8  \n",
      "1      8fe96c3a-d62d-4eb5-b313-cf12d9126a49  \n",
      "2      fc461df4-b919-48b2-909e-55c95a03fe6b  \n",
      "3      6104719f-ef14-4b09-bf04-fb0c4620acb0  \n",
      "4      9523a6d3-b2dd-4670-a51a-36aebc89f579  \n",
      "...                                     ...  \n",
      "15315  2bd3a12f-a92d-4cdd-b99c-fc70572db302  \n",
      "15316  d234c04b-c07c-46a5-a902-526f91478ecc  \n",
      "15317  1a0a8b7b-7c17-42d8-a946-8a85d5495651  \n",
      "15318  187fe06e-bd5f-4381-af2f-d7ac37ca7572  \n",
      "15319  0589bbca-1d58-4b1f-9d0a-04ed4c57aaa1  \n",
      "\n",
      "[15320 rows x 12 columns]\n"
     ]
    }
   ],
   "source": [
    "print(df)"
   ]
  },
  {
   "cell_type": "markdown",
   "metadata": {},
   "source": [
    "### Data Cleaning - User Data\n",
    "- Understand the shape and types of data (change if necessary).\n",
    "- Begin cleaning the user data, look out for NULL values, errors with dates, incorrectly typed values and rows filled with the wrong information.\n"
   ]
  },
  {
   "cell_type": "code",
   "execution_count": 5,
   "metadata": {},
   "outputs": [
    {
     "name": "stdout",
     "output_type": "stream",
     "text": [
      "(15320, 12)\n",
      "<class 'pandas.core.frame.DataFrame'>\n",
      "RangeIndex: 15320 entries, 0 to 15319\n",
      "Data columns (total 12 columns):\n",
      " #   Column         Non-Null Count  Dtype \n",
      "---  ------         --------------  ----- \n",
      " 0   index          15320 non-null  int64 \n",
      " 1   first_name     15320 non-null  object\n",
      " 2   last_name      15320 non-null  object\n",
      " 3   date_of_birth  15320 non-null  object\n",
      " 4   company        15320 non-null  object\n",
      " 5   email_address  15320 non-null  object\n",
      " 6   address        15320 non-null  object\n",
      " 7   country        15320 non-null  object\n",
      " 8   country_code   15320 non-null  object\n",
      " 9   phone_number   15320 non-null  object\n",
      " 10  join_date      15320 non-null  object\n",
      " 11  user_uuid      15320 non-null  object\n",
      "dtypes: int64(1), object(11)\n",
      "memory usage: 1.4+ MB\n",
      "None\n"
     ]
    }
   ],
   "source": [
    "print(df.shape)\n",
    "print(df.info())"
   ]
  },
  {
   "cell_type": "code",
   "execution_count": 6,
   "metadata": {},
   "outputs": [
    {
     "name": "stdout",
     "output_type": "stream",
     "text": [
      "country_code\n",
      "GB            9365\n",
      "DE            4708\n",
      "US            1205\n",
      "NULL            21\n",
      "GGB              6\n",
      "5D74J6FPFJ       1\n",
      "XPVCZE2L8B       1\n",
      "QREF9WLI2A       1\n",
      "XKI9UXSCZ1       1\n",
      "RVRFD92E48       1\n",
      "IM8MN1L9MJ       1\n",
      "LZGTB0T5Z7       1\n",
      "FB13AKRI21       1\n",
      "OS2P9CMHR6       1\n",
      "NTCGYW8LVC       1\n",
      "PG8MOC0UZI       1\n",
      "0CU6LW3NKB       1\n",
      "QVUW9JSKY3       1\n",
      "VSM4IZ4EL3       1\n",
      "44YAIDY048       1\n",
      "Name: count, dtype: int64\n"
     ]
    }
   ],
   "source": [
    "print(df['country_code'].value_counts())"
   ]
  },
  {
   "cell_type": "code",
   "execution_count": 7,
   "metadata": {},
   "outputs": [],
   "source": [
    "clean_df = DataCleaning()\n",
    "\n",
    "clean_df.drop_nulls(df)"
   ]
  },
  {
   "cell_type": "code",
   "execution_count": 7,
   "metadata": {},
   "outputs": [],
   "source": [
    "df['country_code'] = df['country_code'].replace(['GGB'], 'GB')"
   ]
  },
  {
   "cell_type": "code",
   "execution_count": 8,
   "metadata": {},
   "outputs": [
    {
     "name": "stdout",
     "output_type": "stream",
     "text": [
      "country_code\n",
      "GB    9371\n",
      "DE    4708\n",
      "US    1205\n",
      "Name: count, dtype: int64\n"
     ]
    }
   ],
   "source": [
    "search = ['GB','US', 'DE']\n",
    "df = df[df['country_code'].isin(search)]\n",
    "print(df['country_code'].value_counts())"
   ]
  },
  {
   "cell_type": "code",
   "execution_count": 9,
   "metadata": {},
   "outputs": [
    {
     "name": "stdout",
     "output_type": "stream",
     "text": [
      "(15284, 12)\n",
      "<class 'pandas.core.frame.DataFrame'>\n",
      "Index: 15284 entries, 0 to 15319\n",
      "Data columns (total 12 columns):\n",
      " #   Column         Non-Null Count  Dtype         \n",
      "---  ------         --------------  -----         \n",
      " 0   index          15284 non-null  int64         \n",
      " 1   first_name     15284 non-null  object        \n",
      " 2   last_name      15284 non-null  object        \n",
      " 3   date_of_birth  15257 non-null  datetime64[ns]\n",
      " 4   company        15284 non-null  object        \n",
      " 5   email_address  15284 non-null  object        \n",
      " 6   address        15284 non-null  object        \n",
      " 7   country        15284 non-null  object        \n",
      " 8   country_code   15284 non-null  object        \n",
      " 9   phone_number   15284 non-null  object        \n",
      " 10  join_date      15261 non-null  datetime64[ns]\n",
      " 11  user_uuid      15284 non-null  object        \n",
      "dtypes: datetime64[ns](2), int64(1), object(9)\n",
      "memory usage: 1.5+ MB\n",
      "None\n"
     ]
    }
   ],
   "source": [
    "df['date_of_birth'] = pd.to_datetime(df['date_of_birth'], errors='coerce')  \n",
    "\n",
    "df['join_date'] = pd.to_datetime(df['join_date'], errors='coerce')  \n",
    "\n",
    "print(df.shape)\n",
    "print(df.info())"
   ]
  },
  {
   "cell_type": "code",
   "execution_count": 10,
   "metadata": {},
   "outputs": [
    {
     "name": "stdout",
     "output_type": "stream",
     "text": [
      "(15284, 12)\n",
      "<class 'pandas.core.frame.DataFrame'>\n",
      "Index: 15284 entries, 0 to 15319\n",
      "Data columns (total 12 columns):\n",
      " #   Column         Non-Null Count  Dtype         \n",
      "---  ------         --------------  -----         \n",
      " 0   index          15284 non-null  int64         \n",
      " 1   first_name     15284 non-null  object        \n",
      " 2   last_name      15284 non-null  object        \n",
      " 3   date_of_birth  15257 non-null  datetime64[ns]\n",
      " 4   company        15284 non-null  object        \n",
      " 5   email_address  15284 non-null  object        \n",
      " 6   address        15284 non-null  object        \n",
      " 7   country        15284 non-null  object        \n",
      " 8   country_code   15284 non-null  object        \n",
      " 9   phone_number   15284 non-null  float64       \n",
      " 10  join_date      15261 non-null  datetime64[ns]\n",
      " 11  user_uuid      15284 non-null  object        \n",
      "dtypes: datetime64[ns](2), float64(1), int64(1), object(8)\n",
      "memory usage: 1.5+ MB\n",
      "None\n"
     ]
    }
   ],
   "source": [
    "df['phone_number'] = df['phone_number'].str.replace(r'\\D+', '', regex=True).astype('float')\n",
    "df['phone_number'] = pd.to_numeric(df['phone_number'], errors='coerce')  \n",
    "df.dropna(subset=['phone_number'], inplace=True)\n",
    "\n",
    "print(df.shape)\n",
    "print(df.info())"
   ]
  },
  {
   "cell_type": "code",
   "execution_count": 11,
   "metadata": {},
   "outputs": [],
   "source": [
    "local_connector.upload_to_db(df, 'dim_users')"
   ]
  }
 ],
 "metadata": {
  "kernelspec": {
   "display_name": "Python 3",
   "language": "python",
   "name": "python3"
  },
  "language_info": {
   "codemirror_mode": {
    "name": "ipython",
    "version": 3
   },
   "file_extension": ".py",
   "mimetype": "text/x-python",
   "name": "python",
   "nbconvert_exporter": "python",
   "pygments_lexer": "ipython3",
   "version": "3.12.2"
  }
 },
 "nbformat": 4,
 "nbformat_minor": 2
}
